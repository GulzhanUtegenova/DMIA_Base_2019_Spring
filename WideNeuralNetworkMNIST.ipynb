{
  "nbformat": 4,
  "nbformat_minor": 0,
  "metadata": {
    "colab": {
      "name": "WideNeuralNetworkMNIST.ipynb",
      "version": "0.3.2",
      "provenance": []
    },
    "kernelspec": {
      "name": "python3",
      "display_name": "Python 3"
    }
  },
  "cells": [
    {
      "metadata": {
        "id": "tBkZWSFP5ehX",
        "colab_type": "text"
      },
      "cell_type": "markdown",
      "source": [
        "# Нейросеть с одним скрытым слоем на MNIST"
      ]
    },
    {
      "metadata": {
        "id": "NIIN55xK5ehY",
        "colab_type": "text"
      },
      "cell_type": "markdown",
      "source": [
        "Попробуем применить модель с одним скрытым слоем на датасете MNIST. Необходимо будет реализовать функцию, обучающую модель и понять, в какое качество мы \"упираемся\"."
      ]
    },
    {
      "metadata": {
        "id": "IoZUw2sU5eha",
        "colab_type": "text"
      },
      "cell_type": "markdown",
      "source": [
        "## Загрузим данные"
      ]
    },
    {
      "metadata": {
        "scrolled": true,
        "id": "ebU7H40d5ehb",
        "colab_type": "code",
        "colab": {}
      },
      "cell_type": "code",
      "source": [
        "import keras\n",
        "import numpy as np\n",
        "\n",
        "from keras.datasets import mnist\n",
        "from keras.utils import np_utils\n",
        "\n",
        "from keras.layers import Dense\n",
        "from keras.layers.core import Activation\n",
        "from keras.models import Sequential\n",
        "\n",
        "import matplotlib.pyplot as plt"
      ],
      "execution_count": 0,
      "outputs": []
    },
    {
      "metadata": {
        "id": "UhMKXSZ95ehf",
        "colab_type": "text"
      },
      "cell_type": "markdown",
      "source": [
        "Для воспроизводимости расчетов воспользуемся стандартным разбиением на обучающую и тестовую выборки"
      ]
    },
    {
      "metadata": {
        "id": "a3kHa26G5ehg",
        "colab_type": "code",
        "colab": {}
      },
      "cell_type": "code",
      "source": [
        "train, test = mnist.load_data()\n",
        "\n",
        "x_train = train[0]\n",
        "y_train = train[1]\n",
        "\n",
        "x_test = test[0]\n",
        "y_test = test[1]"
      ],
      "execution_count": 0,
      "outputs": []
    },
    {
      "metadata": {
        "id": "IEOwyJa95ehk",
        "colab_type": "text"
      },
      "cell_type": "markdown",
      "source": [
        "Перед тем, как начать работу, посмотрите на данные глазами"
      ]
    },
    {
      "metadata": {
        "id": "VCMlZx-z5ehl",
        "colab_type": "code",
        "colab": {
          "base_uri": "https://localhost:8080/",
          "height": 191
        },
        "outputId": "29714449-3fb2-4cca-977e-1ea2407fdc8f"
      },
      "cell_type": "code",
      "source": [
        "images_and_labels = list(zip(x_train,  y_train))\n",
        "for index, (image, label) in enumerate(images_and_labels[:12]):\n",
        "    plt.subplot(5, 4, index + 1)\n",
        "    plt.axis('off')\n",
        "    plt.imshow(image, cmap=plt.cm.gray_r, interpolation='nearest')\n",
        "    plt.title('label: %i' % label )"
      ],
      "execution_count": 12,
      "outputs": [
        {
          "output_type": "display_data",
          "data": {
            "image/png": "[encoded data removed]",
            "text/plain": [
              "<Figure size 432x288 with 12 Axes>"
            ]
          },
          "metadata": {
            "tags": []
          }
        }
      ]
    },
    {
      "metadata": {
        "id": "hdXZvTET5ehp",
        "colab_type": "text"
      },
      "cell_type": "markdown",
      "source": [
        "Преобразуем данные: сделаем так, чтобы мы работали с матрицей, у которой значения от 0 до 1"
      ]
    },
    {
      "metadata": {
        "id": "TKPzFNSt5ehq",
        "colab_type": "code",
        "colab": {
          "base_uri": "https://localhost:8080/",
          "height": 51
        },
        "outputId": "415a4ea4-09e1-4b3b-9f72-2eae865ad94f"
      },
      "cell_type": "code",
      "source": [
        "x_train = x_train.reshape(60000, 28*28)\n",
        "x_test = x_test.reshape(10000, 28*28)\n",
        "x_train = x_train.astype('float32')\n",
        "x_test = x_test.astype('float32')\n",
        "x_train /= 255\n",
        "x_test /= 255\n",
        "print(x_train.shape[0], 'train samples')\n",
        "print(x_test.shape[0], 'test samples')"
      ],
      "execution_count": 13,
      "outputs": [
        {
          "output_type": "stream",
          "text": [
            "60000 train samples\n",
            "10000 test samples\n"
          ],
          "name": "stdout"
        }
      ]
    },
    {
      "metadata": {
        "id": "mwriPPSf5ehw",
        "colab_type": "text"
      },
      "cell_type": "markdown",
      "source": [
        "А таргет сделаем категориальной переменной (то есть значение таргета по индексу k будет говорить, является ли эта цифра k)"
      ]
    },
    {
      "metadata": {
        "id": "3BuyW5ro5ehx",
        "colab_type": "code",
        "colab": {}
      },
      "cell_type": "code",
      "source": [
        "num_classes = 10\n",
        "y_train = keras.utils.to_categorical(y_train, num_classes)\n",
        "y_test = keras.utils.to_categorical(y_test, num_classes)"
      ],
      "execution_count": 0,
      "outputs": []
    },
    {
      "metadata": {
        "id": "r9cqgAD15eh1",
        "colab_type": "text"
      },
      "cell_type": "markdown",
      "source": [
        "## Построим модель для обучения"
      ]
    },
    {
      "metadata": {
        "id": "pDRQd35_5eh4",
        "colab_type": "text"
      },
      "cell_type": "markdown",
      "source": [
        "Зафиксируем гиперпараметры сети"
      ]
    },
    {
      "metadata": {
        "id": "wCr6-VoS5eh6",
        "colab_type": "code",
        "colab": {}
      },
      "cell_type": "code",
      "source": [
        "batch_size = 128\n",
        "epochs = 10"
      ],
      "execution_count": 0,
      "outputs": []
    },
    {
      "metadata": {
        "scrolled": true,
        "id": "G3ow8B7-5eh_",
        "colab_type": "code",
        "colab": {}
      },
      "cell_type": "code",
      "source": [
        "def get_accuracies_of_wide_model(units, data, batch_size=128, epochs=10, n_iterations=5):\n",
        "    \"\"\"\n",
        "    Функция создает модель с одним скрытым слоем с количеством вершин units,\n",
        "    обучается на данных data с гиперпараметрами batch_size и epochs количество\n",
        "    раз, равное n_iterations и возвращает массив метрик качества на каждой итерации.\n",
        "    \n",
        "    Для функции активации используйте relu, на последнем слое используйте softmax.\n",
        "    \n",
        "    :param units: количество вершин (регулируем)\n",
        "    :param batch_size: размер батча (берем по дефолту)\n",
        "    :param epochs: количество эпох (берем по дефолту)\n",
        "    :param n_iterations: количество итераций (берем по дефолту)\n",
        "    :param data: кортеж, (x_train, y_train, x_test, y_test)\n",
        "    :return: массив, качество на тестовой выборке по каждой итерации\n",
        "    \"\"\"\n",
        "    \n",
        "    x_train, y_train, x_test, y_test = data\n",
        "    accuracies = []\n",
        "    \n",
        "    for i in range(n_iterations):\n",
        "        model = Sequential()\n",
        "        # добавление необходимых слоев\n",
        "        model.add(Dense(1024, activation=\"relu\", input_shape=(784,)))\n",
        "        model.add(Dense(10, activation=\"softmax\"))\n",
        "        # компилируем модель (не меняйте параметры)\n",
        "        model.compile(optimizer=\"adam\",\n",
        "                loss='categorical_crossentropy',\n",
        "                 metrics=[\"accuracy\"])\n",
        "        \n",
        "        # обучение (указать правильные параметры)\n",
        "        history = model.fit(x_train, y_train,\n",
        "          batch_size=batch_size,\n",
        "          epochs=epochs,\n",
        "          verbose=1,\n",
        "          validation_data=(x_test, y_test))\n",
        "        #получение конечного качества на тестовой выборке\n",
        "        accuracy = model.evaluate(x_test, y_test, verbose=0)\n",
        "        \n",
        "        \n",
        "        accuracies.append(accuracy)\n",
        "    \n",
        "    return accuracies[0]"
      ],
      "execution_count": 0,
      "outputs": []
    },
    {
      "metadata": {
        "id": "UgQrF_Pe5eiG",
        "colab_type": "text"
      },
      "cell_type": "markdown",
      "source": [
        "Переберем разное количество вершин в нашей сети. Чтобы сильно не напрягать компьютер, не берите больше 3000 вершин.\n",
        "\n",
        "Задача со звездочкой: постройте график качества и посмотрите, изменяется ли оно"
      ]
    },
    {
      "metadata": {
        "id": "V5e8JeyL5eiJ",
        "colab_type": "code",
        "colab": {
          "base_uri": "https://localhost:8080/",
          "height": 1802
        },
        "outputId": "62aada16-5860-4eec-eae0-c2f22860402c"
      },
      "cell_type": "code",
      "source": [
        "# делаем массив вершин (рекомендуем брать до 3000)\n",
        "units_list = [3000]\n",
        "              \n",
        "data = (x_train, y_train, x_test, y_test)\n",
        "results = [get_accuracies_of_wide_model(units, data) for units in units_list]"
      ],
      "execution_count": 33,
      "outputs": [
        {
          "output_type": "stream",
          "text": [
            "Train on 60000 samples, validate on 10000 samples\n",
            "Epoch 1/10\n",
            "60000/60000 [==============================] - 13s 213us/step - loss: 0.2376 - acc: 0.9318 - val_loss: 0.1255 - val_acc: 0.9622\n",
            "Epoch 2/10\n",
            "60000/60000 [==============================] - 10s 171us/step - loss: 0.0899 - acc: 0.9730 - val_loss: 0.0937 - val_acc: 0.9717\n",
            "Epoch 3/10\n",
            "60000/60000 [==============================] - 10s 173us/step - loss: 0.0574 - acc: 0.9825 - val_loss: 0.0715 - val_acc: 0.9783\n",
            "Epoch 4/10\n",
            "60000/60000 [==============================] - 10s 171us/step - loss: 0.0391 - acc: 0.9880 - val_loss: 0.0668 - val_acc: 0.9801\n",
            "Epoch 5/10\n",
            "60000/60000 [==============================] - 10s 173us/step - loss: 0.0269 - acc: 0.9920 - val_loss: 0.0627 - val_acc: 0.9818\n",
            "Epoch 6/10\n",
            "60000/60000 [==============================] - 11s 177us/step - loss: 0.0190 - acc: 0.9948 - val_loss: 0.0609 - val_acc: 0.9809\n",
            "Epoch 7/10\n",
            "60000/60000 [==============================] - 10s 173us/step - loss: 0.0137 - acc: 0.9960 - val_loss: 0.0641 - val_acc: 0.9803\n",
            "Epoch 8/10\n",
            "60000/60000 [==============================] - 11s 176us/step - loss: 0.0104 - acc: 0.9973 - val_loss: 0.0673 - val_acc: 0.9803\n",
            "Epoch 9/10\n",
            "60000/60000 [==============================] - 10s 169us/step - loss: 0.0101 - acc: 0.9970 - val_loss: 0.0619 - val_acc: 0.9828\n",
            "Epoch 10/10\n",
            "60000/60000 [==============================] - 10s 167us/step - loss: 0.0110 - acc: 0.9966 - val_loss: 0.0704 - val_acc: 0.9822\n",
            "Train on 60000 samples, validate on 10000 samples\n",
            "Epoch 1/10\n",
            "60000/60000 [==============================] - 12s 202us/step - loss: 0.2372 - acc: 0.9318 - val_loss: 0.1152 - val_acc: 0.9661\n",
            "Epoch 2/10\n",
            "60000/60000 [==============================] - 10s 167us/step - loss: 0.0911 - acc: 0.9732 - val_loss: 0.0788 - val_acc: 0.9751\n",
            "Epoch 3/10\n",
            "60000/60000 [==============================] - 10s 172us/step - loss: 0.0578 - acc: 0.9826 - val_loss: 0.0693 - val_acc: 0.9781\n",
            "Epoch 4/10\n",
            "60000/60000 [==============================] - 10s 165us/step - loss: 0.0400 - acc: 0.9877 - val_loss: 0.0656 - val_acc: 0.9797\n",
            "Epoch 5/10\n",
            "60000/60000 [==============================] - 10s 170us/step - loss: 0.0263 - acc: 0.9923 - val_loss: 0.0683 - val_acc: 0.9795\n",
            "Epoch 6/10\n",
            "60000/60000 [==============================] - 10s 169us/step - loss: 0.0197 - acc: 0.9943 - val_loss: 0.0647 - val_acc: 0.9798\n",
            "Epoch 7/10\n",
            "60000/60000 [==============================] - 10s 169us/step - loss: 0.0153 - acc: 0.9956 - val_loss: 0.0675 - val_acc: 0.9787\n",
            "Epoch 8/10\n",
            "60000/60000 [==============================] - 10s 170us/step - loss: 0.0115 - acc: 0.9968 - val_loss: 0.0713 - val_acc: 0.9803\n",
            "Epoch 9/10\n",
            "60000/60000 [==============================] - 10s 170us/step - loss: 0.0085 - acc: 0.9978 - val_loss: 0.0688 - val_acc: 0.9815\n",
            "Epoch 10/10\n",
            "60000/60000 [==============================] - 10s 167us/step - loss: 0.0068 - acc: 0.9983 - val_loss: 0.0630 - val_acc: 0.9824\n",
            "Train on 60000 samples, validate on 10000 samples\n",
            "Epoch 1/10\n",
            "60000/60000 [==============================] - 12s 206us/step - loss: 0.2395 - acc: 0.9317 - val_loss: 0.1109 - val_acc: 0.9672\n",
            "Epoch 2/10\n",
            "60000/60000 [==============================] - 10s 169us/step - loss: 0.0910 - acc: 0.9733 - val_loss: 0.0844 - val_acc: 0.9741\n",
            "Epoch 3/10\n",
            "60000/60000 [==============================] - 10s 172us/step - loss: 0.0574 - acc: 0.9830 - val_loss: 0.0735 - val_acc: 0.9763\n",
            "Epoch 4/10\n",
            "60000/60000 [==============================] - 10s 169us/step - loss: 0.0375 - acc: 0.9889 - val_loss: 0.0592 - val_acc: 0.9819\n",
            "Epoch 5/10\n",
            "60000/60000 [==============================] - 10s 173us/step - loss: 0.0272 - acc: 0.9922 - val_loss: 0.0606 - val_acc: 0.9801\n",
            "Epoch 6/10\n",
            "60000/60000 [==============================] - 10s 168us/step - loss: 0.0212 - acc: 0.9936 - val_loss: 0.0604 - val_acc: 0.9813\n",
            "Epoch 7/10\n",
            "60000/60000 [==============================] - 10s 170us/step - loss: 0.0157 - acc: 0.9955 - val_loss: 0.0597 - val_acc: 0.9811\n",
            "Epoch 8/10\n",
            "60000/60000 [==============================] - 10s 168us/step - loss: 0.0110 - acc: 0.9969 - val_loss: 0.0619 - val_acc: 0.9819\n",
            "Epoch 9/10\n",
            "60000/60000 [==============================] - 10s 171us/step - loss: 0.0097 - acc: 0.9975 - val_loss: 0.0720 - val_acc: 0.9805\n",
            "Epoch 10/10\n",
            "60000/60000 [==============================] - 10s 166us/step - loss: 0.0067 - acc: 0.9983 - val_loss: 0.0718 - val_acc: 0.9801\n",
            "Train on 60000 samples, validate on 10000 samples\n",
            "Epoch 1/10\n",
            "60000/60000 [==============================] - 13s 211us/step - loss: 0.2383 - acc: 0.9312 - val_loss: 0.1207 - val_acc: 0.9634\n",
            "Epoch 2/10\n",
            "60000/60000 [==============================] - 10s 166us/step - loss: 0.0915 - acc: 0.9723 - val_loss: 0.0837 - val_acc: 0.9752\n",
            "Epoch 3/10\n",
            "60000/60000 [==============================] - 10s 171us/step - loss: 0.0575 - acc: 0.9826 - val_loss: 0.0692 - val_acc: 0.9782\n",
            "Epoch 4/10\n",
            "60000/60000 [==============================] - 10s 165us/step - loss: 0.0394 - acc: 0.9881 - val_loss: 0.0603 - val_acc: 0.9813\n",
            "Epoch 5/10\n",
            "60000/60000 [==============================] - 10s 170us/step - loss: 0.0281 - acc: 0.9917 - val_loss: 0.0619 - val_acc: 0.9806\n",
            "Epoch 6/10\n",
            "60000/60000 [==============================] - 10s 164us/step - loss: 0.0203 - acc: 0.9940 - val_loss: 0.0609 - val_acc: 0.9814\n",
            "Epoch 7/10\n",
            "60000/60000 [==============================] - 10s 168us/step - loss: 0.0158 - acc: 0.9955 - val_loss: 0.0619 - val_acc: 0.9804\n",
            "Epoch 8/10\n",
            "60000/60000 [==============================] - 10s 167us/step - loss: 0.0118 - acc: 0.9967 - val_loss: 0.0647 - val_acc: 0.9822\n",
            "Epoch 9/10\n",
            "60000/60000 [==============================] - 10s 167us/step - loss: 0.0104 - acc: 0.9970 - val_loss: 0.0718 - val_acc: 0.9812\n",
            "Epoch 10/10\n",
            "60000/60000 [==============================] - 10s 167us/step - loss: 0.0083 - acc: 0.9977 - val_loss: 0.0755 - val_acc: 0.9785\n",
            "Train on 60000 samples, validate on 10000 samples\n",
            "Epoch 1/10\n",
            "60000/60000 [==============================] - 12s 202us/step - loss: 0.2368 - acc: 0.9318 - val_loss: 0.1135 - val_acc: 0.9657\n",
            "Epoch 2/10\n",
            "60000/60000 [==============================] - 10s 166us/step - loss: 0.0918 - acc: 0.9734 - val_loss: 0.0963 - val_acc: 0.9712\n",
            "Epoch 3/10\n",
            "60000/60000 [==============================] - 10s 166us/step - loss: 0.0573 - acc: 0.9831 - val_loss: 0.0673 - val_acc: 0.9774\n",
            "Epoch 4/10\n",
            "60000/60000 [==============================] - 10s 168us/step - loss: 0.0394 - acc: 0.9884 - val_loss: 0.0636 - val_acc: 0.9809\n",
            "Epoch 5/10\n",
            "60000/60000 [==============================] - 10s 166us/step - loss: 0.0275 - acc: 0.9920 - val_loss: 0.0688 - val_acc: 0.9784\n",
            "Epoch 6/10\n",
            "60000/60000 [==============================] - 10s 166us/step - loss: 0.0197 - acc: 0.9943 - val_loss: 0.0589 - val_acc: 0.9826\n",
            "Epoch 7/10\n",
            "60000/60000 [==============================] - 10s 166us/step - loss: 0.0149 - acc: 0.9960 - val_loss: 0.0617 - val_acc: 0.9802\n",
            "Epoch 8/10\n",
            "60000/60000 [==============================] - 10s 166us/step - loss: 0.0116 - acc: 0.9970 - val_loss: 0.0656 - val_acc: 0.9812\n",
            "Epoch 9/10\n",
            "60000/60000 [==============================] - 10s 168us/step - loss: 0.0082 - acc: 0.9980 - val_loss: 0.0726 - val_acc: 0.9795\n",
            "Epoch 10/10\n",
            "60000/60000 [==============================] - 10s 165us/step - loss: 0.0091 - acc: 0.9973 - val_loss: 0.0663 - val_acc: 0.9818\n"
          ],
          "name": "stdout"
        }
      ]
    },
    {
      "metadata": {
        "id": "9GRCKEhV5eiN",
        "colab_type": "text"
      },
      "cell_type": "markdown",
      "source": [
        "# Ответы для формы"
      ]
    },
    {
      "metadata": {
        "id": "YO70uVyP5eiO",
        "colab_type": "text"
      },
      "cell_type": "markdown",
      "source": [
        "Ответом для формы должно служить максимальное качество на тестовой выборке. Поскольку в keras результаты разнятся от запуска к запуску, правильный ответ будет засчитан как интервал"
      ]
    },
    {
      "metadata": {
        "id": "WMQiLZ0J5eiP",
        "colab_type": "code",
        "colab": {
          "base_uri": "https://localhost:8080/",
          "height": 34
        },
        "outputId": "6907dc8a-a0d6-4eef-b27d-d87a6c4a37ca"
      },
      "cell_type": "code",
      "source": [
        "max_results = max([max(result) for result in results])\n",
        "print('{:.4f}'.format(max_results))"
      ],
      "execution_count": 34,
      "outputs": [
        {
          "output_type": "stream",
          "text": [
            "0.9822\n"
          ],
          "name": "stdout"
        }
      ]
    }
  ]
}